{
 "cells": [
  {
   "cell_type": "code",
   "execution_count": 1,
   "metadata": {},
   "outputs": [
    {
     "name": "stderr",
     "output_type": "stream",
     "text": [
      "C:\\Users\\Samarth\\Anaconda3\\lib\\site-packages\\sklearn\\ensemble\\weight_boosting.py:29: DeprecationWarning: numpy.core.umath_tests is an internal NumPy module and should not be imported. It will be removed in a future NumPy release.\n",
      "  from numpy.core.umath_tests import inner1d\n"
     ]
    }
   ],
   "source": [
    "from sklearn.tree import DecisionTreeClassifier\n",
    "from sklearn.ensemble import RandomForestClassifier\n",
    "from sklearn.ensemble import GradientBoostingClassifier\n",
    "from sklearn import metrics\n",
    "def run_decision_tree(X_train, y_train, X_test, y_test):\n",
    "    dt_clf = DecisionTreeClassifier(random_state=0)\n",
    "    dt_clf.fit(X_train, y_train)\n",
    "    print(\"DT Test Score: {0}\".format(dt_clf.score(X_test, y_test)))\n",
    "    print(\"DT Train Score: {0}\".format(dt_clf.score(X_train,y_train)))\n",
    "    y_pred = dt_clf.predict(X_test)\n",
    "    print(\"Confusion Matrix: {0}\".format(metrics.confusion_matrix(y_test, y_pred)))\n",
    "\n",
    "def run_random_forest(X_train, y_train, X_test, y_test):\n",
    "    rfc = RandomForestClassifier(n_estimators=100)\n",
    "    rfc.fit(X_train, y_train)\n",
    "    train_score = rfc.score(X_train, y_train)\n",
    "    test_score = rfc.score(X_test, y_test)\n",
    "    print(\"RF Test Score: {0}\".format(test_score))\n",
    "    print(\"RF Train Score: {0}\".format(train_score))\n",
    "    rfc_y_pred = rfc.predict(X_test)\n",
    "    confusion_matrix = metrics.confusion_matrix(y_test, rfc_y_pred)\n",
    "    print(\"RF Confusion Matrix: {0}\".format(confusion_matrix))\n",
    "    feature_importances = pd.DataFrame(rfc.feature_importances_, index = strat_train_set.columns[:-1],\n",
    "                                    columns=['importance']).sort_values('importance',ascending=False)\n",
    "    print(\"RF Feature Importance: {0}\".format(feature_importances))\n",
    "    return (train_score, test_score, rfc_y_pred, confusion_matrix, feature_importances, rfc)\n",
    "\n",
    "def run_gradient_boosting(X_train, y_train, X_test, y_test):\n",
    "    gbc = GradientBoostingClassifier()\n",
    "    gbc.fit(X_train,y_train)\n",
    "    train_score = gbc.score(X_train,y_train)\n",
    "    test_score = gbc.score(X_test, y_test)\n",
    "    print(\"RF Test Score: {0}\".format(test_score))\n",
    "    print(\"RF Train Score: {0}\".format(train_score))\n",
    "    gbc_y_pred = gbc.predict(X_test)\n",
    "    confusion_matrix = metrics.confusion_matrix(y_test, gbc_y_pred)\n",
    "    print(\"RF Confusion Matrix: {0}\".format(confusion_matrix))\n",
    "    feature_importances = pd.DataFrame(gbc.feature_importances_, index = strat_train_set.columns,\n",
    "                                    columns=['importance']).sort_values('importance',ascending=False)\n",
    "    print(\"RF Feature Importance: {0}\".format(feature_importances))\n",
    "    return (train_score, test_score, gbc_y_pred, confusion_matrix, feature_importances)"
   ]
  },
  {
   "cell_type": "code",
   "execution_count": null,
   "metadata": {},
   "outputs": [],
   "source": []
  }
 ],
 "metadata": {
  "kernelspec": {
   "display_name": "Python 3",
   "language": "python",
   "name": "python3"
  },
  "language_info": {
   "codemirror_mode": {
    "name": "ipython",
    "version": 3
   },
   "file_extension": ".py",
   "mimetype": "text/x-python",
   "name": "python",
   "nbconvert_exporter": "python",
   "pygments_lexer": "ipython3",
   "version": "3.7.0"
  }
 },
 "nbformat": 4,
 "nbformat_minor": 2
}
